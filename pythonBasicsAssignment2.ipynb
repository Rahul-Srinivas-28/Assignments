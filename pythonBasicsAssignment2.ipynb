{
 "cells": [
  {
   "cell_type": "markdown",
   "id": "0ffa1408",
   "metadata": {},
   "source": [
    "# 1. What are the two values of the Boolean data type? How do you write them?"
   ]
  },
  {
   "cell_type": "markdown",
   "id": "27bc27e7",
   "metadata": {},
   "source": [
    "True and False are the two values of the Boolean datatype. You write them as True and False. "
   ]
  },
  {
   "cell_type": "markdown",
   "id": "9a41df3d",
   "metadata": {},
   "source": [
    "# 2. What are the three different types of Boolean operators?"
   ]
  },
  {
   "cell_type": "markdown",
   "id": "a79a640a",
   "metadata": {},
   "source": [
    "and, or,not"
   ]
  },
  {
   "cell_type": "markdown",
   "id": "c999c7ce",
   "metadata": {},
   "source": [
    "# 3.Write out the truth tables of each Boolean operator (that is, every possible combination of Boolean values for the operator and what they evaluate to)."
   ]
  },
  {
   "cell_type": "code",
   "execution_count": null,
   "id": "3a85673c",
   "metadata": {},
   "outputs": [],
   "source": [
    "True and True is True.\n",
    "True and False is False.\n",
    "False and True is False.\n",
    "False and False is False.\n",
    "True or True is True.\n",
    "True or False is True.\n",
    "False or True is True.\n",
    "False or False is False.\n",
    "not True is False.\n",
    "not False is True."
   ]
  },
  {
   "cell_type": "markdown",
   "id": "b00e3350",
   "metadata": {},
   "source": [
    "# 4. What do the following expressions evaluate to?"
   ]
  },
  {
   "cell_type": "code",
   "execution_count": null,
   "id": "02820d89",
   "metadata": {},
   "outputs": [],
   "source": [
    "(5 > 4) and (3 == 5) ->False\n",
    "not (5 > 4)  ->True\n",
    "(5 > 4) or (3 == 5)->True\n",
    "not ((5 > 4) or (3 == 5))->False\n",
    "(True and True) and (True == False)->False\n",
    "(not False) or (not True)->True"
   ]
  },
  {
   "cell_type": "markdown",
   "id": "87646549",
   "metadata": {},
   "source": [
    "# 5. What are the six comparison operators?"
   ]
  },
  {
   "cell_type": "markdown",
   "id": "01378157",
   "metadata": {},
   "source": [
    "The six different types of reference operators are : ==, !=, <, >, <=, and >=."
   ]
  },
  {
   "cell_type": "markdown",
   "id": "7b565126",
   "metadata": {},
   "source": [
    "# 6. What is the difference between the equal to operator and the assignment operator?"
   ]
  },
  {
   "cell_type": "markdown",
   "id": "a8bc5966",
   "metadata": {},
   "source": [
    "== is the equal to operator that compares two values and evaluates to a Boolean, while = is the assignment operator that stores a value in a variable"
   ]
  },
  {
   "cell_type": "markdown",
   "id": "a6aedfb1",
   "metadata": {},
   "source": [
    "# 7.  Identify the three blocks in this code:"
   ]
  },
  {
   "cell_type": "code",
   "execution_count": null,
   "id": "7328bc9b",
   "metadata": {},
   "outputs": [],
   "source": [
    "spam = 0\n",
    "if spam == 10:\n",
    "    print('eggs')\n",
    "    if spam > 5:\n",
    "        print('bacon')\n",
    "    else:\n",
    "        print('ham')\n",
    "    print('spam')\n",
    "print('spam')\n",
    "spam\n",
    "\n",
    "The three blocks are everything inside the if statement"
   ]
  },
  {
   "cell_type": "markdown",
   "id": "02572755",
   "metadata": {},
   "source": [
    "# 8.Explain what a condition is and where you would use one."
   ]
  },
  {
   "cell_type": "markdown",
   "id": "e928efff",
   "metadata": {},
   "source": [
    "A condition is an expression used in a flow control statement that evaluates to a Boolean value."
   ]
  },
  {
   "cell_type": "markdown",
   "id": "a68c2d2d",
   "metadata": {},
   "source": [
    "# 9.Write code that prints Hello if 1 is stored in spam, prints Howdy if 2 is stored in spam, and prints Greetings! if anything else is stored in spam."
   ]
  },
  {
   "cell_type": "code",
   "execution_count": 3,
   "id": "d069b164",
   "metadata": {},
   "outputs": [
    {
     "name": "stdout",
     "output_type": "stream",
     "text": [
      "Enter a number : 1\n",
      "Hello\n"
     ]
    }
   ],
   "source": [
    "spam = int(input(\"Enter a number : \"))\n",
    "if spam == 1:\n",
    "    print('Hello')\n",
    "elif spam == 2:\n",
    "    print('Howdy')\n",
    "else:\n",
    "    print('Greetings!')"
   ]
  },
  {
   "cell_type": "markdown",
   "id": "9724865d",
   "metadata": {},
   "source": [
    "# 10. What keys can you press if your program is stuck in an infinite loop?"
   ]
  },
  {
   "cell_type": "markdown",
   "id": "cbf1757d",
   "metadata": {},
   "source": [
    "We need to press CTRL-C to stop a program if it has been stuck in an infinite loop."
   ]
  },
  {
   "cell_type": "markdown",
   "id": "9995a7b1",
   "metadata": {},
   "source": [
    "# 11.What is the difference between break and continue?"
   ]
  },
  {
   "cell_type": "markdown",
   "id": "cd4e84de",
   "metadata": {},
   "source": [
    "The break statement will move the execution outside and just after a loop. The continue statement will move the execution to the start of the loop."
   ]
  },
  {
   "cell_type": "markdown",
   "id": "a95682cd",
   "metadata": {},
   "source": [
    "# 12.What is the difference between range(10), range(0, 10), and range(0, 10, 1) in a for loop?"
   ]
  },
  {
   "cell_type": "markdown",
   "id": "941ead1a",
   "metadata": {},
   "source": [
    "They all do the same thing. The range(10) call ranges from 0 up to (but not including) 10, range(0, 10) explicitly tells the loop to start at 0, and range(0, 10, 1) explicitly tells the loop to increase the variable by 1 on each iteration."
   ]
  },
  {
   "cell_type": "markdown",
   "id": "27d0d738",
   "metadata": {},
   "source": [
    "# 13.Write a short program that prints the numbers 1 to 10 using a for loop. Then write an equivalent program that prints the numbers 1 to 10 using a while loop."
   ]
  },
  {
   "cell_type": "code",
   "execution_count": 4,
   "id": "5d71a661",
   "metadata": {},
   "outputs": [
    {
     "name": "stdout",
     "output_type": "stream",
     "text": [
      "1\n",
      "2\n",
      "3\n",
      "4\n",
      "5\n",
      "6\n",
      "7\n",
      "8\n",
      "9\n",
      "10\n"
     ]
    }
   ],
   "source": [
    "for i in range(1, 11):\n",
    "    print(i)"
   ]
  },
  {
   "cell_type": "code",
   "execution_count": 8,
   "id": "d8a49c93",
   "metadata": {},
   "outputs": [
    {
     "name": "stdout",
     "output_type": "stream",
     "text": [
      "1\n",
      "2\n",
      "3\n",
      "4\n",
      "5\n",
      "6\n",
      "7\n",
      "8\n",
      "9\n",
      "10\n"
     ]
    }
   ],
   "source": [
    "j=1\n",
    "while j <= 10:\n",
    "    print(j)\n",
    "    j = j + 1"
   ]
  },
  {
   "cell_type": "markdown",
   "id": "2c40ac9d",
   "metadata": {},
   "source": [
    "# 14.If you had a bacon() function within a spam module, what would you call it after importing spam?"
   ]
  },
  {
   "cell_type": "markdown",
   "id": "71f0171a",
   "metadata": {},
   "source": [
    "This function can be called with spam.bacon()."
   ]
  },
  {
   "cell_type": "code",
   "execution_count": null,
   "id": "175175d7",
   "metadata": {},
   "outputs": [],
   "source": []
  }
 ],
 "metadata": {
  "kernelspec": {
   "display_name": "Python 3 (ipykernel)",
   "language": "python",
   "name": "python3"
  },
  "language_info": {
   "codemirror_mode": {
    "name": "ipython",
    "version": 3
   },
   "file_extension": ".py",
   "mimetype": "text/x-python",
   "name": "python",
   "nbconvert_exporter": "python",
   "pygments_lexer": "ipython3",
   "version": "3.9.12"
  }
 },
 "nbformat": 4,
 "nbformat_minor": 5
}
