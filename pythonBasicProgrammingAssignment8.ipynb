{
 "cells": [
  {
   "cell_type": "markdown",
   "id": "3af13627",
   "metadata": {},
   "source": [
    "# 1. Write a Python Program to Add Two Matrices?"
   ]
  },
  {
   "cell_type": "code",
   "execution_count": 8,
   "id": "aab3ccb1",
   "metadata": {},
   "outputs": [
    {
     "name": "stdout",
     "output_type": "stream",
     "text": [
      "matrix 1: \n",
      "[[ 12 120  19]\n",
      " [ 94  12   3]]\n",
      "matrix 2: \n",
      "[[34 89 90]\n",
      " [90 76 56]]\n",
      "The addition of the 2 matrices: \n",
      "[[ 46 209 109]\n",
      " [184  88  59]]\n"
     ]
    }
   ],
   "source": [
    "import numpy as np\n",
    "M1=np.array([[12,120,19],[94,12,3]])\n",
    "print(f\"matrix 1: \\n{M1}\")\n",
    "M2=np.array([[34,89,90],[90,76,56]])\n",
    "print(f\"matrix 2: \\n{M2}\")\n",
    "print(f\"The addition of the 2 matrices: \\n{M1+M2}\")"
   ]
  },
  {
   "cell_type": "markdown",
   "id": "a8a95d88",
   "metadata": {},
   "source": [
    "# 2. Write a Python Program to Multiply Two Matrices?"
   ]
  },
  {
   "cell_type": "code",
   "execution_count": 16,
   "id": "759977ff",
   "metadata": {},
   "outputs": [
    {
     "name": "stdout",
     "output_type": "stream",
     "text": [
      "[[1 2 6]\n",
      " [2 3 4]\n",
      " [5 7 9]]\n",
      "[[1 2]\n",
      " [3 4]\n",
      " [5 6]]\n",
      "The mulplication of the matrices is: \n",
      "[[37 46]\n",
      " [31 40]\n",
      " [71 92]]\n"
     ]
    }
   ],
   "source": [
    "import numpy as np\n",
    "M1=np.array([[1,2,6],[2,3,4],[5,7,9]])\n",
    "print(M1)\n",
    "M2=np.array([[1,2],[3,4],[5,6]])\n",
    "print(M2)\n",
    "print(f\"The mulplication of the matrices is: \\n{M1.dot(M2)}\")"
   ]
  },
  {
   "cell_type": "markdown",
   "id": "dd307b30",
   "metadata": {},
   "source": [
    "# 3. Write a Python Program to Transpose a Matrix?"
   ]
  },
  {
   "cell_type": "code",
   "execution_count": 31,
   "id": "571f891d",
   "metadata": {},
   "outputs": [
    {
     "name": "stdout",
     "output_type": "stream",
     "text": [
      "[[  1   2   4]\n",
      " [ 12  23  12]\n",
      " [ 12 278  90]]\n",
      "The transpose of the matrix is: \n",
      "[[  1  12  12]\n",
      " [  2  23 278]\n",
      " [  4  12  90]]\n"
     ]
    }
   ],
   "source": [
    "import numpy as np\n",
    "M=np.array([[1,2,4],[12,23,12],[12,278,90]])\n",
    "print(M)\n",
    "print(f\"The transpose of the matrix is: \\n{M.transpose()}\")"
   ]
  },
  {
   "cell_type": "markdown",
   "id": "54303829",
   "metadata": {},
   "source": [
    "# 4. Write a Python Program to Sort Words in Alphabetic Order?"
   ]
  },
  {
   "cell_type": "code",
   "execution_count": 43,
   "id": "0c87793b",
   "metadata": {},
   "outputs": [
    {
     "name": "stdout",
     "output_type": "stream",
     "text": [
      "The sorted words are:\n",
      "['a', 'an', 'apple', 'away', 'day', 'doctor', 'keeps', 'the']\n"
     ]
    }
   ],
   "source": [
    "string=\"An apple a day keeps the doctor away\"\n",
    "words=string.split()\n",
    "words_lower=[i.lower() for i in words]\n",
    "print(\"The sorted words are:\")\n",
    "print(sorted(words_lower))"
   ]
  },
  {
   "cell_type": "markdown",
   "id": "06b8d271",
   "metadata": {},
   "source": [
    "# 5. Write a Python Program to Remove Punctuation From a String?"
   ]
  },
  {
   "cell_type": "code",
   "execution_count": 56,
   "id": "bb5623c8",
   "metadata": {},
   "outputs": [
    {
     "name": "stdout",
     "output_type": "stream",
     "text": [
      "Removed punctuation: \n",
      "Ineuron is the best org in the  world\n"
     ]
    }
   ],
   "source": [
    "import string\n",
    "newstr=\"Ineuron, is the best org. in the _ world????!!@@@\"\n",
    "for a in string.punctuation:\n",
    "    newstr=newstr.replace(a,\"\")\n",
    "print(f\"Removed punctuation: \\n{newstr}\")"
   ]
  },
  {
   "cell_type": "code",
   "execution_count": null,
   "id": "5f73c22b",
   "metadata": {},
   "outputs": [],
   "source": []
  }
 ],
 "metadata": {
  "kernelspec": {
   "display_name": "Python 3 (ipykernel)",
   "language": "python",
   "name": "python3"
  },
  "language_info": {
   "codemirror_mode": {
    "name": "ipython",
    "version": 3
   },
   "file_extension": ".py",
   "mimetype": "text/x-python",
   "name": "python",
   "nbconvert_exporter": "python",
   "pygments_lexer": "ipython3",
   "version": "3.9.12"
  }
 },
 "nbformat": 4,
 "nbformat_minor": 5
}
