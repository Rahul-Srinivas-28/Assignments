{
 "cells": [
  {
   "cell_type": "markdown",
   "id": "fe087622",
   "metadata": {},
   "source": [
    "# 1. Write a Python Program to Display Fibonacci Sequence Using Recursion?"
   ]
  },
  {
   "cell_type": "code",
   "execution_count": 3,
   "id": "ca505823",
   "metadata": {},
   "outputs": [
    {
     "name": "stdout",
     "output_type": "stream",
     "text": [
      "Enter the number of terms20\n",
      "Printing fibonacci series for 20 terms....\n",
      "0\n",
      "1\n",
      "1\n",
      "2\n",
      "3\n",
      "5\n",
      "8\n",
      "13\n",
      "21\n",
      "34\n",
      "55\n",
      "89\n",
      "144\n",
      "233\n",
      "377\n",
      "610\n",
      "987\n",
      "1597\n",
      "2584\n",
      "4181\n"
     ]
    }
   ],
   "source": [
    "def fibonacci(n):\n",
    "    if n<=1:\n",
    "        return n\n",
    "    else:\n",
    "        return(fibonacci(n-1)+fibonacci(n-2))\n",
    "number_of_terms=int(input(\"Enter the number of terms\"))\n",
    "if number_of_terms>0:\n",
    "    print(f\"Printing fibonacci series for {number_of_terms} terms....\")\n",
    "    for i in range(number_of_terms):\n",
    "        print(fibonacci(i))\n",
    "else:\n",
    "    print(\"Invalid input\")"
   ]
  },
  {
   "cell_type": "markdown",
   "id": "17838a0f",
   "metadata": {},
   "source": [
    "# 2. Write a Python Program to Find Factorial of Number Using Recursion?"
   ]
  },
  {
   "cell_type": "code",
   "execution_count": 7,
   "id": "d7c6f906",
   "metadata": {},
   "outputs": [
    {
     "name": "stdout",
     "output_type": "stream",
     "text": [
      "Enter a number:6\n",
      "720\n"
     ]
    }
   ],
   "source": [
    "def recur_fact(n):\n",
    "    if n==0:\n",
    "        return 1\n",
    "    else:\n",
    "        return (n*recur_fact(n-1))\n",
    "num=int(input(\"Enter a number:\"))\n",
    "print(recur_fact(num))"
   ]
  },
  {
   "cell_type": "markdown",
   "id": "2929e6c1",
   "metadata": {},
   "source": [
    "# 3. Write a Python Program to calculate your Body Mass Index?"
   ]
  },
  {
   "cell_type": "code",
   "execution_count": 2,
   "id": "e5ee0067",
   "metadata": {},
   "outputs": [
    {
     "name": "stdout",
     "output_type": "stream",
     "text": [
      "Enter your weight (in kg):70\n",
      "Enter your height (in cm):180\n",
      "Your Body Mass Index=21.604938271604937\n"
     ]
    }
   ],
   "source": [
    "weight=float(input(\"Enter your weight (in kg):\"))\n",
    "height=float(input(\"Enter your height (in cm):\"))\n",
    "BMI=weight/(height*0.01)**2\n",
    "print(f\"Your Body Mass Index={BMI}\")"
   ]
  },
  {
   "cell_type": "markdown",
   "id": "d5505f01",
   "metadata": {},
   "source": [
    "# 4. Write a Python Program to calculate the natural logarithm of any number?"
   ]
  },
  {
   "cell_type": "code",
   "execution_count": 5,
   "id": "adfe5952",
   "metadata": {},
   "outputs": [
    {
     "name": "stdout",
     "output_type": "stream",
     "text": [
      "Enter a number:10\n",
      "Natural logarithm of 10.0 is:2.302585092994046\n"
     ]
    }
   ],
   "source": [
    "import math\n",
    "n=float(input(\"Enter a number:\"))\n",
    "print(f\"Natural logarithm of {n} is:{math.log(n)}\")"
   ]
  },
  {
   "cell_type": "markdown",
   "id": "89de9beb",
   "metadata": {},
   "source": [
    "# 5. Write a Python Program for cube sum of first n natural numbers?"
   ]
  },
  {
   "cell_type": "code",
   "execution_count": 8,
   "id": "ed77b029",
   "metadata": {},
   "outputs": [
    {
     "name": "stdout",
     "output_type": "stream",
     "text": [
      "Enter a number:5\n",
      "The sum of cubes of first 5 natural numbers is:225.0\n"
     ]
    }
   ],
   "source": [
    "n=int(input(\"Enter a number:\"))\n",
    "print(f\"The sum of cubes of first {n} natural numbers is:{(n*(n+1)/2)**2}\")"
   ]
  },
  {
   "cell_type": "code",
   "execution_count": null,
   "id": "e9efa5fa",
   "metadata": {},
   "outputs": [],
   "source": []
  }
 ],
 "metadata": {
  "kernelspec": {
   "display_name": "Python 3 (ipykernel)",
   "language": "python",
   "name": "python3"
  },
  "language_info": {
   "codemirror_mode": {
    "name": "ipython",
    "version": 3
   },
   "file_extension": ".py",
   "mimetype": "text/x-python",
   "name": "python",
   "nbconvert_exporter": "python",
   "pygments_lexer": "ipython3",
   "version": "3.9.12"
  }
 },
 "nbformat": 4,
 "nbformat_minor": 5
}
