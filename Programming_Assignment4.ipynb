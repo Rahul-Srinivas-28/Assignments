{
 "cells": [
  {
   "cell_type": "markdown",
   "metadata": {},
   "source": [
    "# 1. Write a Python Program to Find the Factorial of a Number?"
   ]
  },
  {
   "cell_type": "code",
   "execution_count": 4,
   "metadata": {},
   "outputs": [
    {
     "name": "stdout",
     "output_type": "stream",
     "text": [
      "Enter a number:5\n",
      "The fatorial of 5 is 120\n"
     ]
    }
   ],
   "source": [
    "n=int(input(\"Enter a number:\"))\n",
    "fact=1\n",
    "if n==0:\n",
    "    fact=1\n",
    "else:\n",
    "    for i in range(1,n+1): \n",
    "        fact=fact*i\n",
    "print(f\"The fatorial of {n} is {fact}\")"
   ]
  },
  {
   "cell_type": "markdown",
   "metadata": {},
   "source": [
    "# 2. Write a Python Program to Display the multiplication Table?"
   ]
  },
  {
   "cell_type": "code",
   "execution_count": 8,
   "metadata": {},
   "outputs": [
    {
     "name": "stdout",
     "output_type": "stream",
     "text": [
      "Print the multiplication table of? 28\n",
      "28 x 1 = 28\n",
      "28 x 2 = 56\n",
      "28 x 3 = 84\n",
      "28 x 4 = 112\n",
      "28 x 5 = 140\n",
      "28 x 6 = 168\n",
      "28 x 7 = 196\n",
      "28 x 8 = 224\n",
      "28 x 9 = 252\n",
      "28 x 10 = 280\n"
     ]
    }
   ],
   "source": [
    "n=int(input(\"Print the multiplication table of? \"))\n",
    "for i in range(1,11):\n",
    "    print(f\"{n} x {i} = {n*i}\")"
   ]
  },
  {
   "cell_type": "markdown",
   "metadata": {},
   "source": [
    "# 3. Write a Python Program to Print the Fibonacci sequence?"
   ]
  },
  {
   "cell_type": "code",
   "execution_count": 1,
   "metadata": {},
   "outputs": [
    {
     "name": "stdout",
     "output_type": "stream",
     "text": [
      "Number of terms=1\n",
      "Fibonacci series upto 1 term:\n",
      "0\n"
     ]
    }
   ],
   "source": [
    "n=int(input(\"Number of terms=\"))\n",
    "n1=0\n",
    "n2=1\n",
    "count=0\n",
    "if n==1:\n",
    "    print(f\"Fibonacci series upto {n} term:\")\n",
    "    print(n1)\n",
    "else:\n",
    "    while(count<n):\n",
    "        print(n1)\n",
    "        nth=n1+n2\n",
    "        n1=n2\n",
    "        n2=nth\n",
    "        count=count+1"
   ]
  },
  {
   "cell_type": "code",
   "execution_count": 2,
   "metadata": {},
   "outputs": [
    {
     "name": "stdout",
     "output_type": "stream",
     "text": [
      "Number of terms=10\n",
      "0\n",
      "1\n",
      "1\n",
      "2\n",
      "3\n",
      "5\n",
      "8\n",
      "13\n",
      "21\n",
      "34\n"
     ]
    }
   ],
   "source": [
    "n=int(input(\"Number of terms=\"))\n",
    "n1=0\n",
    "n2=1\n",
    "count=0\n",
    "if n==1:\n",
    "    print(f\"Fibonacci series upto {n} term:\")\n",
    "    print(n1)\n",
    "else:\n",
    "    while(count<n):\n",
    "        print(n1)\n",
    "        nth=n1+n2\n",
    "        n1=n2\n",
    "        n2=nth\n",
    "        count=count+1"
   ]
  },
  {
   "cell_type": "markdown",
   "metadata": {},
   "source": [
    "# 4. Write a Python Program to Check Armstrong Number?"
   ]
  },
  {
   "cell_type": "code",
   "execution_count": 11,
   "metadata": {},
   "outputs": [
    {
     "name": "stdout",
     "output_type": "stream",
     "text": [
      "Enter a number:153\n",
      "153 is an armstrong number\n"
     ]
    }
   ],
   "source": [
    "n=int(input(\"Enter a number:\"))\n",
    "n1=n\n",
    "count=0\n",
    "sum1=0\n",
    "number_of_digits=len(str(n))\n",
    "\n",
    "while n1>0:\n",
    "    c=n1%10\n",
    "    sum1+=c**number_of_digits\n",
    "    n1=n1//10\n",
    "if n==sum1:\n",
    "    print(f\"{n} is an armstrong number\")\n",
    "else:\n",
    "    print(f\"{n} is not an armstrong number\")"
   ]
  },
  {
   "cell_type": "code",
   "execution_count": 12,
   "metadata": {},
   "outputs": [
    {
     "name": "stdout",
     "output_type": "stream",
     "text": [
      "Enter a number:1634\n",
      "1634 is an armstrong number\n"
     ]
    }
   ],
   "source": [
    "n=int(input(\"Enter a number:\"))\n",
    "n1=n\n",
    "count=0\n",
    "sum1=0\n",
    "number_of_digits=len(str(n))\n",
    "\n",
    "while n1>0:\n",
    "    c=n1%10\n",
    "    sum1+=c**number_of_digits\n",
    "    n1=n1//10\n",
    "if n==sum1:\n",
    "    print(f\"{n} is an armstrong number\")\n",
    "else:\n",
    "    print(f\"{n} is not an armstrong number\")"
   ]
  },
  {
   "cell_type": "markdown",
   "metadata": {},
   "source": [
    "# 5. Write a Python Program to Find Armstrong Number in an Interval?"
   ]
  },
  {
   "cell_type": "code",
   "execution_count": 20,
   "metadata": {},
   "outputs": [
    {
     "name": "stdout",
     "output_type": "stream",
     "text": [
      "Enter lower limit of interval:100\n",
      "Enter upper limit of interval:100000\n",
      "Printing list of Armstrong numbers in the interval (100-100000) ......\n",
      "153 370 371 407 1634 8208 9474 54748 92727 93084\n"
     ]
    }
   ],
   "source": [
    "def isArmstrong(n):\n",
    "    n1=n\n",
    "    count=0\n",
    "    sum1=0\n",
    "    number_of_digits=len(str(n))\n",
    "\n",
    "    while n1>0:\n",
    "        c=n1%10\n",
    "        sum1+=c**number_of_digits\n",
    "        n1=n1//10\n",
    "    if n==sum1:\n",
    "        return True\n",
    "    else:\n",
    "        return False\n",
    "n1=int(input(\"Enter lower limit of interval:\"))\n",
    "n2=int(input(\"Enter upper limit of interval:\"))\n",
    "l=[]\n",
    "if n1>n2:\n",
    "    print(\"Invalid interval\")\n",
    "else:\n",
    "    for i in range(n1,n2+1):\n",
    "        if(isArmstrong(i)):\n",
    "            l.append(i)\n",
    "    print(f\"Printing list of Armstrong numbers in the interval ({n1}-{n2}) ......\") \n",
    "    print(*l)\n",
    "    "
   ]
  },
  {
   "cell_type": "markdown",
   "metadata": {},
   "source": [
    "# 6. Write a Python Program to Find the Sum of Natural Numbers?"
   ]
  },
  {
   "cell_type": "code",
   "execution_count": 23,
   "metadata": {},
   "outputs": [
    {
     "name": "stdout",
     "output_type": "stream",
     "text": [
      "Enter the number of natural numbers:100\n",
      "Sum of 100 natural numbers=5050\n"
     ]
    }
   ],
   "source": [
    "n=int(input(\"Enter the number of natural numbers:\"))\n",
    "sum=n*(n+1)/2\n",
    "print(f\"Sum of {n} natural numbers={int(sum)}\")"
   ]
  },
  {
   "cell_type": "code",
   "execution_count": null,
   "metadata": {},
   "outputs": [],
   "source": []
  }
 ],
 "metadata": {
  "kernelspec": {
   "display_name": "Python 3 (ipykernel)",
   "language": "python",
   "name": "python3"
  },
  "language_info": {
   "codemirror_mode": {
    "name": "ipython",
    "version": 3
   },
   "file_extension": ".py",
   "mimetype": "text/x-python",
   "name": "python",
   "nbconvert_exporter": "python",
   "pygments_lexer": "ipython3",
   "version": "3.9.12"
  }
 },
 "nbformat": 4,
 "nbformat_minor": 4
}
