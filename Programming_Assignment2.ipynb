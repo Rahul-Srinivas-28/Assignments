{
 "cells": [
  {
   "cell_type": "markdown",
   "metadata": {},
   "source": [
    "#  1. Write a Python program to convert kilometers to miles?"
   ]
  },
  {
   "cell_type": "code",
   "execution_count": 1,
   "metadata": {},
   "outputs": [
    {
     "name": "stdout",
     "output_type": "stream",
     "text": [
      "Enter the value in kilometers:144\n",
      "The value in miles=89.424\n"
     ]
    }
   ],
   "source": [
    "km=float(int(input(\"Enter the value in kilometers:\")))\n",
    "miles=0.621*km\n",
    "print(f\"The value in miles={miles}\")"
   ]
  },
  {
   "cell_type": "markdown",
   "metadata": {},
   "source": [
    "# 2. Write a Python program to convert Celsius to Fahrenheit?"
   ]
  },
  {
   "cell_type": "code",
   "execution_count": 2,
   "metadata": {},
   "outputs": [
    {
     "name": "stdout",
     "output_type": "stream",
     "text": [
      "Enter the value in celsius:30\n",
      "The value in Fahrenheit=86.0\n"
     ]
    }
   ],
   "source": [
    "C=float(int(input(\"Enter the value in celsius:\")))\n",
    "F=C*1.8+32\n",
    "print(f\"The value in Fahrenheit={F}\")"
   ]
  },
  {
   "cell_type": "markdown",
   "metadata": {},
   "source": [
    "# 3. Write a Python program to display calendar?"
   ]
  },
  {
   "cell_type": "code",
   "execution_count": 4,
   "metadata": {},
   "outputs": [
    {
     "name": "stdout",
     "output_type": "stream",
     "text": [
      "Enter the value of year:1999\n",
      "Enter the value of month:08\n",
      "    August 1999\n",
      "Mo Tu We Th Fr Sa Su\n",
      "                   1\n",
      " 2  3  4  5  6  7  8\n",
      " 9 10 11 12 13 14 15\n",
      "16 17 18 19 20 21 22\n",
      "23 24 25 26 27 28 29\n",
      "30 31\n",
      "\n"
     ]
    }
   ],
   "source": [
    "import calendar\n",
    "yy=int(input(\"Enter the value of year:\"))\n",
    "mm=int(input(\"Enter the value of month:\"))\n",
    "print(calendar.month(yy,mm))"
   ]
  },
  {
   "cell_type": "markdown",
   "metadata": {},
   "source": [
    "# 4. Write a Python program to solve quadratic equation?"
   ]
  },
  {
   "cell_type": "code",
   "execution_count": 7,
   "metadata": {},
   "outputs": [
    {
     "name": "stdout",
     "output_type": "stream",
     "text": [
      "The quadratic equation is a*(x)**2 + b*x + c=0\n",
      "a=1\n",
      "b=2\n",
      "c=1\n",
      "The roots of the equation are -1.0 and -1.0\n"
     ]
    }
   ],
   "source": [
    "print(\"The quadratic equation is a*(x)**2 + b*x + c=0\")\n",
    "a=int(input(\"a=\"))\n",
    "b=int(input(\"b=\"))\n",
    "c=int(input(\"c=\"))\n",
    "r1=(-b+(b**2-4*a*c)**0.5)/(2*a)\n",
    "r2=(-b-(b**2-4*a*c)**0.5)/(2*a)\n",
    "print(f\"The roots of the equation are {r1} and {r2}\")"
   ]
  },
  {
   "cell_type": "code",
   "execution_count": 8,
   "metadata": {},
   "outputs": [
    {
     "name": "stdout",
     "output_type": "stream",
     "text": [
      "The quadratic equation is a*(x)**2 + b*x + c=0\n",
      "a=1\n",
      "b=1\n",
      "c=1\n",
      "The roots of the equation are (-0.49999999999999994+0.8660254037844386j) and (-0.5-0.8660254037844386j)\n"
     ]
    }
   ],
   "source": [
    "print(\"The quadratic equation is a*(x)**2 + b*x + c=0\")\n",
    "a=int(input(\"a=\"))\n",
    "b=int(input(\"b=\"))\n",
    "c=int(input(\"c=\"))\n",
    "r1=(-b+(b**2-4*a*c)**0.5)/(2*a)\n",
    "r2=(-b-(b**2-4*a*c)**0.5)/(2*a)\n",
    "print(f\"The roots of the equation are {r1} and {r2}\")"
   ]
  },
  {
   "cell_type": "markdown",
   "metadata": {},
   "source": [
    "# 5. Write a Python program to swap two variables without temp variable?"
   ]
  },
  {
   "cell_type": "code",
   "execution_count": 13,
   "metadata": {},
   "outputs": [
    {
     "name": "stdout",
     "output_type": "stream",
     "text": [
      "Enter the value of a=100\n",
      "Enter the value of b=299\n",
      "After swapping,the value of a= 299\n",
      "After swapping,the value of b= 100\n"
     ]
    }
   ],
   "source": [
    "a=int(input(\"Enter the value of a=\"))\n",
    "b=int(input(\"Enter the value of b=\"))\n",
    "a=a+b\n",
    "b=a-b\n",
    "a=a-b\n",
    "print(f\"After swapping,the value of a= {a}\")\n",
    "print(f\"After swapping,the value of b= {b}\")"
   ]
  },
  {
   "cell_type": "code",
   "execution_count": 14,
   "metadata": {},
   "outputs": [
    {
     "name": "stdout",
     "output_type": "stream",
     "text": [
      "Enter the value of a=24\n",
      "Enter the value of b=25\n",
      "After swapping,the value of a= 25\n",
      "After swapping,the value of b= 24\n"
     ]
    }
   ],
   "source": [
    "a=int(input(\"Enter the value of a=\"))\n",
    "b=int(input(\"Enter the value of b=\"))\n",
    "a=a+b\n",
    "b=a-b\n",
    "a=a-b\n",
    "print(f\"After swapping,the value of a= {a}\")\n",
    "print(f\"After swapping,the value of b= {b}\")"
   ]
  },
  {
   "cell_type": "code",
   "execution_count": 15,
   "metadata": {},
   "outputs": [
    {
     "name": "stdout",
     "output_type": "stream",
     "text": [
      "Enter the value of a=2500\n",
      "Enter the value of b=2300\n",
      "After swapping,the value of a= 2300\n",
      "After swapping,the value of b= 2500\n"
     ]
    }
   ],
   "source": [
    "a=int(input(\"Enter the value of a=\"))\n",
    "b=int(input(\"Enter the value of b=\"))\n",
    "a=a+b\n",
    "b=a-b\n",
    "a=a-b\n",
    "print(f\"After swapping,the value of a= {a}\")\n",
    "print(f\"After swapping,the value of b= {b}\")"
   ]
  },
  {
   "cell_type": "code",
   "execution_count": null,
   "metadata": {},
   "outputs": [],
   "source": []
  }
 ],
 "metadata": {
  "kernelspec": {
   "display_name": "Python 3",
   "language": "python",
   "name": "python3"
  },
  "language_info": {
   "codemirror_mode": {
    "name": "ipython",
    "version": 3
   },
   "file_extension": ".py",
   "mimetype": "text/x-python",
   "name": "python",
   "nbconvert_exporter": "python",
   "pygments_lexer": "ipython3",
   "version": "3.8.3"
  }
 },
 "nbformat": 4,
 "nbformat_minor": 4
}
