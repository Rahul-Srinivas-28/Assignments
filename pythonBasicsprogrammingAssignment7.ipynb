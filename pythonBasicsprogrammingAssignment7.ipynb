{
 "cells": [
  {
   "cell_type": "markdown",
   "id": "56cec67d",
   "metadata": {},
   "source": [
    "# 1. Write a Python Program to find sum of array?"
   ]
  },
  {
   "cell_type": "code",
   "execution_count": 4,
   "id": "c539aa28",
   "metadata": {},
   "outputs": [
    {
     "name": "stdout",
     "output_type": "stream",
     "text": [
      "The sum of array [25, 267, 19, 10, 267, 89] is :677\n"
     ]
    }
   ],
   "source": [
    "l=[25,267,19,10,267,89]\n",
    "print(f\"The sum of array {l} is :{sum(l)}\")"
   ]
  },
  {
   "cell_type": "markdown",
   "id": "7654a3ee",
   "metadata": {},
   "source": [
    "# 2. Write a Python Program to find largest element in an array?"
   ]
  },
  {
   "cell_type": "code",
   "execution_count": 5,
   "id": "2b1e6d76",
   "metadata": {},
   "outputs": [
    {
     "name": "stdout",
     "output_type": "stream",
     "text": [
      "The maximum element of array [25, 267, 19, 10, 267, 89] is :289\n"
     ]
    }
   ],
   "source": [
    "l1=[24,189,90,67,289,0,76,29]\n",
    "print(f\"The maximum element of array {l} is :{max(l1)}\")"
   ]
  },
  {
   "cell_type": "markdown",
   "id": "725c46f7",
   "metadata": {},
   "source": [
    "# 3. Write a Python Program for array rotation?"
   ]
  },
  {
   "cell_type": "code",
   "execution_count": 15,
   "id": "a14c763f",
   "metadata": {},
   "outputs": [
    {
     "name": "stdout",
     "output_type": "stream",
     "text": [
      "The array rotated by 3 elements is:[4, 5, 6, 7, 8, 9, 10, 1, 2, 3]\n"
     ]
    }
   ],
   "source": [
    "d=3\n",
    "l=[1,2,3,4,5,6,7,8,9,10]\n",
    "n=len(l)\n",
    "l[:]=l[d:n]+l[0:d]\n",
    "print(f\"The array rotated by {d} elements is:{l}\")"
   ]
  },
  {
   "cell_type": "markdown",
   "id": "d22f6769",
   "metadata": {},
   "source": [
    "# 4. Write a Python Program to Split the array and add the first part to the end?"
   ]
  },
  {
   "cell_type": "code",
   "execution_count": 7,
   "id": "bb0509a1",
   "metadata": {},
   "outputs": [
    {
     "data": {
      "text/plain": [
       "[8, 9, 99, 100, 12, 12, 332, 16, 12, 34, 67, 31, 1213, 5, 67]"
      ]
     },
     "execution_count": 7,
     "metadata": {},
     "output_type": "execute_result"
    }
   ],
   "source": [
    "l=[12,34,67,31,1213,5,67,8,9,99,100,12,12,332,16]\n",
    "n=len(l)\n",
    "l1=l[0:(n//2)]\n",
    "l2=l[(n//2):n]\n",
    "l3=l2+l1\n",
    "l3"
   ]
  },
  {
   "cell_type": "markdown",
   "id": "da14b3f1",
   "metadata": {},
   "source": [
    "# 5. Write a Python Program to check if given array is Monotonic?"
   ]
  },
  {
   "cell_type": "code",
   "execution_count": 10,
   "id": "b9ad0150",
   "metadata": {},
   "outputs": [
    {
     "name": "stdout",
     "output_type": "stream",
     "text": [
      "The array is not monotonic\n"
     ]
    }
   ],
   "source": [
    "A=[12,34,56,78,20000,100,120]\n",
    "inc=dec=True\n",
    "for i in range(len(A)-1):\n",
    "    if A[i]>A[i+1]:\n",
    "        inc=False\n",
    "    if A[i]<A[i+1]:\n",
    "        dec=False\n",
    "if(inc or dec):\n",
    "    print(f\"The array is monotonic\")\n",
    "else:\n",
    "    print(\"The array is not monotonic\")"
   ]
  },
  {
   "cell_type": "code",
   "execution_count": 11,
   "id": "41a50212",
   "metadata": {},
   "outputs": [
    {
     "name": "stdout",
     "output_type": "stream",
     "text": [
      "The array is monotonic\n"
     ]
    }
   ],
   "source": [
    "A=[12,34,56,78,90,100,120]\n",
    "inc=dec=True\n",
    "for i in range(len(A)-1):\n",
    "    if A[i]>A[i+1]:\n",
    "        inc=False\n",
    "    if A[i]<A[i+1]:\n",
    "        dec=False\n",
    "if(inc or dec):\n",
    "    print(f\"The array is monotonic\")\n",
    "else:\n",
    "    print(\"The array is not monotonic\")"
   ]
  },
  {
   "cell_type": "code",
   "execution_count": null,
   "id": "2b708c83",
   "metadata": {},
   "outputs": [],
   "source": []
  }
 ],
 "metadata": {
  "kernelspec": {
   "display_name": "Python 3 (ipykernel)",
   "language": "python",
   "name": "python3"
  },
  "language_info": {
   "codemirror_mode": {
    "name": "ipython",
    "version": 3
   },
   "file_extension": ".py",
   "mimetype": "text/x-python",
   "name": "python",
   "nbconvert_exporter": "python",
   "pygments_lexer": "ipython3",
   "version": "3.9.12"
  }
 },
 "nbformat": 4,
 "nbformat_minor": 5
}
