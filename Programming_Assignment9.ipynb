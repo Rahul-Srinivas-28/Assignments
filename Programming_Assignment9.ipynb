{
 "cells": [
  {
   "cell_type": "markdown",
   "id": "9b18bfb9",
   "metadata": {},
   "source": [
    "# 1. Write a Python program to check if the given number is a Disarium Number?"
   ]
  },
  {
   "cell_type": "code",
   "execution_count": 5,
   "id": "0c11e5a1",
   "metadata": {},
   "outputs": [
    {
     "name": "stdout",
     "output_type": "stream",
     "text": [
      "Enter a number:89\n",
      "89 is a Disarium number\n"
     ]
    }
   ],
   "source": [
    "n=int(input(\"Enter a number:\"))\n",
    "n1=n\n",
    "digit_count=len(str(n))\n",
    "s=0\n",
    "while(n1>0):\n",
    "    digit=n1%10\n",
    "    s=s+(digit)**(digit_count)\n",
    "    digit_count=digit_count-1\n",
    "    n1=n1//10\n",
    "if s==n:\n",
    "    print(f\"{n} is a Disarium number\")\n",
    "else:\n",
    "    print(f\"{n} is not a Disarium number\") "
   ]
  },
  {
   "cell_type": "code",
   "execution_count": 6,
   "id": "a988179d",
   "metadata": {},
   "outputs": [
    {
     "name": "stdout",
     "output_type": "stream",
     "text": [
      "Enter a number:135\n",
      "135 is a Disarium number\n"
     ]
    }
   ],
   "source": [
    "n=int(input(\"Enter a number:\"))\n",
    "n1=n\n",
    "digit_count=len(str(n))\n",
    "s=0\n",
    "while(n1>0):\n",
    "    digit=n1%10\n",
    "    s=s+(digit)**(digit_count)\n",
    "    digit_count=digit_count-1\n",
    "    n1=n1//10\n",
    "if s==n:\n",
    "    print(f\"{n} is a Disarium number\")\n",
    "else:\n",
    "    print(f\"{n} is not a Disarium number\")"
   ]
  },
  {
   "cell_type": "code",
   "execution_count": 7,
   "id": "2ac50103",
   "metadata": {},
   "outputs": [
    {
     "name": "stdout",
     "output_type": "stream",
     "text": [
      "Enter a number:73\n",
      "73 is not a Disarium number\n"
     ]
    }
   ],
   "source": [
    "n=int(input(\"Enter a number:\"))\n",
    "n1=n\n",
    "digit_count=len(str(n))\n",
    "s=0\n",
    "while(n1>0):\n",
    "    digit=n1%10\n",
    "    s=s+(digit)**(digit_count)\n",
    "    digit_count=digit_count-1\n",
    "    n1=n1//10\n",
    "if s==n:\n",
    "    print(f\"{n} is a Disarium number\")\n",
    "else:\n",
    "    print(f\"{n} is not a Disarium number\")"
   ]
  },
  {
   "cell_type": "markdown",
   "id": "d045cc8c",
   "metadata": {},
   "source": [
    "# 2. Write a Python program to print all disarium numbers between 1 to 100?"
   ]
  },
  {
   "cell_type": "code",
   "execution_count": 11,
   "id": "0a525593",
   "metadata": {},
   "outputs": [
    {
     "name": "stdout",
     "output_type": "stream",
     "text": [
      "Printing all disarium numbers between 1 to 100.....\n",
      "[1, 2, 3, 4, 5, 6, 7, 8, 9, 89]\n"
     ]
    }
   ],
   "source": [
    "def check_Disarium_number(n):\n",
    "    n1=n\n",
    "    digit_count=len(str(n))\n",
    "    s=0\n",
    "    while(n1>0):\n",
    "        digit=n1%10\n",
    "        s=s+(digit)**(digit_count)\n",
    "        digit_count=digit_count-1\n",
    "        n1=n1//10\n",
    "    if s==n:\n",
    "        return 1\n",
    "    else:\n",
    "        return 0\n",
    "print(\"Printing all disarium numbers between 1 to 100.....\")\n",
    "l=list()\n",
    "for i in range(1,101):\n",
    "    if check_Disarium_number(i):\n",
    "        l.append(i)\n",
    "print(l)"
   ]
  },
  {
   "cell_type": "markdown",
   "id": "c82a083d",
   "metadata": {},
   "source": [
    "# 3. Write a Python program to check if the given number is Happy Number?"
   ]
  },
  {
   "cell_type": "code",
   "execution_count": 51,
   "id": "a8f6f53c",
   "metadata": {},
   "outputs": [
    {
     "name": "stdout",
     "output_type": "stream",
     "text": [
      "Enter a number:13\n",
      "13 is a happy number\n"
     ]
    }
   ],
   "source": [
    "def isHappyNumber(num):    \n",
    "    rem = sum = 0;    \n",
    "    while num > 0:    \n",
    "        rem = num%10\n",
    "        sum = sum + (rem*rem)   \n",
    "        num = num//10    \n",
    "    return sum    \n",
    "        \n",
    "num = int(input(\"Enter a number:\"))    \n",
    "result = num    \n",
    "     \n",
    "while result != 1 and result != 4:    \n",
    "    result = isHappyNumber(result)       \n",
    "if result == 1:    \n",
    "    print(f\"{num} is a happy number\")  \n",
    "elif result == 4:    \n",
    "    print(f\"{num} is not a happy number\")   "
   ]
  },
  {
   "cell_type": "code",
   "execution_count": 52,
   "id": "046507ee",
   "metadata": {},
   "outputs": [
    {
     "name": "stdout",
     "output_type": "stream",
     "text": [
      "Printing all happy numbers between 1 to 100....\n",
      "[1, 7, 10, 13, 19, 23, 28, 31, 32, 44, 49, 68, 70, 79, 82, 86, 91, 94, 97, 100]\n"
     ]
    }
   ],
   "source": [
    "def isHappyNumber(num):    \n",
    "    rem = sum = 0;    \n",
    "    while num > 0:    \n",
    "        rem = num%10\n",
    "        sum = sum + (rem*rem)   \n",
    "        num = num//10    \n",
    "    return sum      \n",
    "print(\"Printing all happy numbers between 1 to 100....\")\n",
    "happy_number=list()\n",
    "for i in range(1,101):\n",
    "    result=i\n",
    "    while result!= 1 and result!= 4:\n",
    "        result= isHappyNumber(result)\n",
    "    if result==1:\n",
    "        happy_number.append(i)\n",
    "print(happy_number)"
   ]
  },
  {
   "cell_type": "markdown",
   "id": "3dd5fcbf",
   "metadata": {},
   "source": [
    "# 5. Write a Python program to determine whether the given number is a Harshad Number?"
   ]
  },
  {
   "cell_type": "code",
   "execution_count": 55,
   "id": "5e904605",
   "metadata": {},
   "outputs": [
    {
     "name": "stdout",
     "output_type": "stream",
     "text": [
      "Enter a number:12\n",
      "12 is a Harshad number\n"
     ]
    }
   ],
   "source": [
    "def isHarshad(n):\n",
    "    x=n\n",
    "    s=0\n",
    "    while x>0:\n",
    "        d=x%10\n",
    "        s=s+d\n",
    "        x=x//10\n",
    "    if n%s==0:\n",
    "        return True\n",
    "    else:\n",
    "        return False\n",
    "num=int(input(\"Enter a number:\"))\n",
    "if(isHarshad(num)):\n",
    "    print(f\"{num} is a Harshad number\")\n",
    "else:\n",
    "    print(f\"{num} is not a Harshad number\")   "
   ]
  },
  {
   "cell_type": "code",
   "execution_count": 56,
   "id": "2ad2061b",
   "metadata": {},
   "outputs": [
    {
     "name": "stdout",
     "output_type": "stream",
     "text": [
      "Enter a number:90\n",
      "90 is a Harshad number\n"
     ]
    }
   ],
   "source": [
    "def isHarshad(n):\n",
    "    x=n\n",
    "    s=0\n",
    "    while x>0:\n",
    "        d=x%10\n",
    "        s=s+d\n",
    "        x=x//10\n",
    "    if n%s==0:\n",
    "        return True\n",
    "    else:\n",
    "        return False\n",
    "num=int(input(\"Enter a number:\"))\n",
    "if(isHarshad(num)):\n",
    "    print(f\"{num} is a Harshad number\")\n",
    "else:\n",
    "    print(f\"{num} is not a Harshad number\")"
   ]
  },
  {
   "cell_type": "markdown",
   "id": "a5d6c43e",
   "metadata": {},
   "source": [
    "# 6. Write a Python program to print all pronic numbers between 1 and 100?"
   ]
  },
  {
   "cell_type": "code",
   "execution_count": 61,
   "id": "82d7c940",
   "metadata": {},
   "outputs": [
    {
     "name": "stdout",
     "output_type": "stream",
     "text": [
      "Printing all pronic numbers between 1 to 100....\n",
      "0 2 6 12 20 30 42 56 72 90 "
     ]
    }
   ],
   "source": [
    "def checkPronic (x) :\n",
    "    i = 0\n",
    "    while i<=x**(0.5):\n",
    "        if x == i * (i + 1):\n",
    "            return True\n",
    "        i = i + 1\n",
    " \n",
    "    return False\n",
    "i=0\n",
    "print(\"Printing all pronic numbers between 1 to 100....\")\n",
    "while i <= 100 :\n",
    "    if checkPronic(i) :\n",
    "        print(i,end=\" \")\n",
    "    i =i+1"
   ]
  },
  {
   "cell_type": "code",
   "execution_count": null,
   "id": "3f9f6a87",
   "metadata": {},
   "outputs": [],
   "source": []
  }
 ],
 "metadata": {
  "kernelspec": {
   "display_name": "Python 3 (ipykernel)",
   "language": "python",
   "name": "python3"
  },
  "language_info": {
   "codemirror_mode": {
    "name": "ipython",
    "version": 3
   },
   "file_extension": ".py",
   "mimetype": "text/x-python",
   "name": "python",
   "nbconvert_exporter": "python",
   "pygments_lexer": "ipython3",
   "version": "3.9.12"
  }
 },
 "nbformat": 4,
 "nbformat_minor": 5
}
