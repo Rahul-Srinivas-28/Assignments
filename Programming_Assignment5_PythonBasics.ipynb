{
 "cells": [
  {
   "cell_type": "markdown",
   "id": "edab5d61",
   "metadata": {},
   "source": [
    "# 1. Write a Python Program to Find LCM?"
   ]
  },
  {
   "cell_type": "code",
   "execution_count": 25,
   "id": "64014fa8",
   "metadata": {},
   "outputs": [
    {
     "name": "stdout",
     "output_type": "stream",
     "text": [
      "Enter the number of elements:12\n",
      "Enter the numbers:\n",
      "2\n",
      "4\n",
      "8\n",
      "16\n",
      "32\n",
      "64\n",
      "128\n",
      "256\n",
      "512\n",
      "1024\n",
      "2048\n",
      "4096\n",
      "The LCM of the given numbers is: 4096\n"
     ]
    }
   ],
   "source": [
    "n=int(input(\"Enter the number of elements:\"))\n",
    "l=[]\n",
    "print(\"Enter the numbers:\")\n",
    "for i in range(n):\n",
    "    ele=int(input())\n",
    "    l.append(ele)\n",
    "def find_hcf(num1,num2):\n",
    "    if num1>num2:\n",
    "        smaller=num2\n",
    "    else:\n",
    "        smaller=num1\n",
    "    for i in range(1,smaller+1):\n",
    "        if((num1%i==0) and (num2%i==0)):\n",
    "            hcf=i\n",
    "    return hcf\n",
    "lcm=l[0]\n",
    "for i in range(1,n):\n",
    "    lcm=lcm*l[i]//(find_hcf(lcm,l[i]))\n",
    "print(f\"The LCM of the given numbers is: {lcm}\")"
   ]
  },
  {
   "cell_type": "markdown",
   "id": "455f2f84",
   "metadata": {},
   "source": [
    "# 2. Write a Python Program to Find HCF?"
   ]
  },
  {
   "cell_type": "code",
   "execution_count": 13,
   "id": "f5f3e49a",
   "metadata": {},
   "outputs": [
    {
     "name": "stdout",
     "output_type": "stream",
     "text": [
      "Enter the number of elements:4\n",
      "Enter the numbers:\n",
      "2\n",
      "2\n",
      "4\n",
      "17\n",
      "The HCF of the given numbers is: 1\n"
     ]
    }
   ],
   "source": [
    "n=int(input(\"Enter the number of elements:\"))\n",
    "l=[]\n",
    "print(\"Enter the numbers:\")\n",
    "for i in range(n):\n",
    "    ele=int(input())\n",
    "    l.append(ele)\n",
    "def find_hcf(num1,num2):\n",
    "    if num1>num2:\n",
    "        smaller=num2\n",
    "    else:\n",
    "        smaller=num1\n",
    "    for i in range(1,smaller+1):\n",
    "        if((num1%i==0) and (num2%i==0)):\n",
    "            hcf=i\n",
    "    return hcf\n",
    "hcf=find_hcf(l[0],l[1])\n",
    "for i in range(2,n):\n",
    "    hcf=find_hcf(hcf,l[i])\n",
    "print(f\"The HCF of the given numbers is: {hcf}\")"
   ]
  },
  {
   "cell_type": "markdown",
   "id": "9ff91676",
   "metadata": {},
   "source": [
    "# 3. Write a Python Program to Convert Decimal to Binary, Octal and Hexadecimal?"
   ]
  },
  {
   "cell_type": "code",
   "execution_count": 1,
   "id": "f1e75aa0",
   "metadata": {},
   "outputs": [
    {
     "name": "stdout",
     "output_type": "stream",
     "text": [
      "Enter a number:100\n",
      "The binary form of 100 is:  0b1100100\n",
      "The octal form of 100 is:  0o144\n",
      "The hexadecimal form of 100 is:  0x64\n"
     ]
    }
   ],
   "source": [
    "n=int(input(\"Enter a number:\"))\n",
    "print(f\"The binary form of {n} is: \",bin(n))\n",
    "print(f\"The octal form of {n} is: \",oct(n))\n",
    "print(f\"The hexadecimal form of {n} is: \",hex(n))    "
   ]
  },
  {
   "cell_type": "markdown",
   "id": "1a46243b",
   "metadata": {},
   "source": [
    "# 4. Write a Python Program To Find ASCII value of a character?"
   ]
  },
  {
   "cell_type": "code",
   "execution_count": 6,
   "id": "20c139aa",
   "metadata": {},
   "outputs": [
    {
     "name": "stdout",
     "output_type": "stream",
     "text": [
      "Enter a character:X\n",
      "The ASCII value of ch is: 88\n"
     ]
    }
   ],
   "source": [
    "ch=input(\"Enter a character:\")\n",
    "print(f\"The ASCII value of ch is: {ord(ch)}\")"
   ]
  },
  {
   "cell_type": "markdown",
   "id": "4b07cc81",
   "metadata": {},
   "source": [
    "# 5. Write a Python Program to Make a Simple Calculator with 4 basic mathematical operations?"
   ]
  },
  {
   "cell_type": "code",
   "execution_count": 13,
   "id": "51ded479",
   "metadata": {},
   "outputs": [
    {
     "name": "stdout",
     "output_type": "stream",
     "text": [
      "Choose the operation:\n",
      "1.Add\n",
      "2.Subtract\n",
      "3.Multiply\n",
      "4.Divide\n",
      "Enter the choice(1/2/3/4):3\n",
      "Enter first number: 23\n",
      "Enter second number: 26\n",
      "23.0x26.0=598.0\n",
      "Do you want to continue?(yes/no)yes\n",
      "Enter the choice(1/2/3/4):wew\n",
      "Invalid input\n",
      "Enter the choice(1/2/3/4):1\n",
      "Enter first number: 1212\n",
      "Enter second number: 2324\n",
      "1212.0+2324.0=3536.0\n",
      "Do you want to continue?(yes/no)no\n"
     ]
    }
   ],
   "source": [
    "def add(a,b):\n",
    "    return a+b\n",
    "def subtract(a,b):\n",
    "    return a-b\n",
    "def multiply(a,b):\n",
    "    return a*b\n",
    "def divide(a,b):\n",
    "    return a/b\n",
    "print(\"Choose the operation:\")\n",
    "print(\"1.Add\")\n",
    "print(\"2.Subtract\")\n",
    "print(\"3.Multiply\")\n",
    "print(\"4.Divide\")\n",
    "\n",
    "while True:\n",
    "    choice=input(\"Enter the choice(1/2/3/4):\")\n",
    "    if choice in ('1','2','3','4'):\n",
    "        n1=float(input(\"Enter first number: \"))\n",
    "        n2=float(input(\"Enter second number: \"))\n",
    "        if choice=='1':\n",
    "            print(f\"{n1}+{n2}={add(n1,n2)}\")\n",
    "        \n",
    "        elif choice=='2':\n",
    "            print(f\"{n1}-{n2}={subtract(n1,n2)}\")\n",
    "        \n",
    "        elif choice=='3':\n",
    "            print(f\"{n1}x{n2}={multiply(n1,n2)}\")\n",
    "        \n",
    "        elif choice=='4':\n",
    "            print(f\"{n1}/{n2}={divide(n1,n2)}\")\n",
    "        next_1=input(\"Do you want to continue?(yes/no)\")\n",
    "        if next_1=='no':\n",
    "                  break\n",
    "    else:\n",
    "        print(\"Invalid input\")\n",
    "                  "
   ]
  },
  {
   "cell_type": "code",
   "execution_count": null,
   "id": "601ecee2",
   "metadata": {},
   "outputs": [],
   "source": []
  }
 ],
 "metadata": {
  "kernelspec": {
   "display_name": "Python 3 (ipykernel)",
   "language": "python",
   "name": "python3"
  },
  "language_info": {
   "codemirror_mode": {
    "name": "ipython",
    "version": 3
   },
   "file_extension": ".py",
   "mimetype": "text/x-python",
   "name": "python",
   "nbconvert_exporter": "python",
   "pygments_lexer": "ipython3",
   "version": "3.9.12"
  }
 },
 "nbformat": 4,
 "nbformat_minor": 5
}
